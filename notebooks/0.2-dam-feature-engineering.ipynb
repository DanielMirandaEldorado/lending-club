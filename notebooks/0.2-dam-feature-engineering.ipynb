{
 "cells": [
  {
   "attachments": {},
   "cell_type": "markdown",
   "metadata": {},
   "source": [
    "# 0. SETUP"
   ]
  },
  {
   "attachments": {},
   "cell_type": "markdown",
   "metadata": {},
   "source": [
    "All notebooks need to run the cells up to `Helper Function` and then run only after a checkpoint at the start of a step."
   ]
  },
  {
   "cell_type": "code",
   "execution_count": null,
   "metadata": {},
   "outputs": [],
   "source": [
    "VERSION = 0\n",
    "step = 0"
   ]
  },
  {
   "attachments": {},
   "cell_type": "markdown",
   "metadata": {},
   "source": [
    "## 0.0. Imports"
   ]
  },
  {
   "cell_type": "code",
   "execution_count": null,
   "metadata": {},
   "outputs": [],
   "source": [
    "from pathlib import Path\n",
    "import pandas as pd\n",
    "import numpy as np\n",
    "import seaborn as sns\n",
    "import matplotlib.pyplot as plt\n",
    "from IPython.display import Image"
   ]
  },
  {
   "attachments": {},
   "cell_type": "markdown",
   "metadata": {},
   "source": [
    "## 0.1. Path Definition"
   ]
  },
  {
   "cell_type": "code",
   "execution_count": null,
   "metadata": {},
   "outputs": [],
   "source": [
    "!pwd\n",
    "raw_data_path = '../data/raw'\n",
    "interim_data_path = '../data/interim'\n",
    "external_data_path = '../data/external'"
   ]
  },
  {
   "attachments": {},
   "cell_type": "markdown",
   "metadata": {},
   "source": [
    "## 0.2. Helper Functions"
   ]
  },
  {
   "cell_type": "code",
   "execution_count": null,
   "metadata": {},
   "outputs": [],
   "source": [
    "def read_large_gzip_csv(path: str) -> pd.DataFrame:\n",
    "    chunk = pd.read_csv(path,chunksize=1000000, compression='gzip')\n",
    "    df = pd.concat(chunk);\n",
    "    return df\n",
    "\n",
    "def save_relevant_features():\n",
    "    global relevant_features\n",
    "    dirname = interim_data_path\n",
    "    filename = 'relevant_features.csv'\n",
    "    fullname =  dirname + '/' + filename\n",
    "\n",
    "    rf = pd.Series(relevant_features)\n",
    "    rf.to_csv(fullname)\n",
    "\n",
    "def backup_df():\n",
    "    global df\n",
    "    global step\n",
    "\n",
    "    dirname = interim_data_path + '/' + str(VERSION)\n",
    "    filename = 'df' + str(step) + '.csv.gz'\n",
    "    fullname =  dirname + '/' + filename\n",
    "\n",
    "    output_dir = Path(dirname)\n",
    "    output_dir.mkdir(parents=True, exist_ok=True)\n",
    "    df.to_csv(fullname, compression='gzip')\n",
    "\n",
    "def restore_df():\n",
    "    global df\n",
    "    global relevant_features\n",
    "    global step\n",
    "\n",
    "    dirname = interim_data_path\n",
    "    filename = 'relevant_features.csv'\n",
    "    fullname =  dirname + '/' + filename\n",
    "\n",
    "    try: relevant_features\n",
    "    except NameError:\n",
    "        relevant_features = pd.read_csv(fullname, index_col=0)['0']\n",
    "\n",
    "    dirname = interim_data_path + '/' + str(VERSION)\n",
    "    filename = 'df' + str(step - 1) + '.csv.gz'\n",
    "    fullname =  dirname + '/' + filename\n",
    "\n",
    "    try: df\n",
    "    except NameError:\n",
    "        df = read_large_gzip_csv(fullname)\n",
    "\n",
    "def show_data_types(df, relevant_features, type=None):\n",
    "    if type:\n",
    "        df = df.select_dtypes(type)\n",
    "\n",
    "    pd.options.display.max_rows = None\n",
    "    pd.options.display.max_colwidth  = 80\n",
    "    variables_types = df.dtypes\n",
    "    unique_values = pd.Series([df[i].unique() for i in df.columns], index=df.columns)\n",
    "\n",
    "    data_types = pd.concat( [variables_types,\n",
    "                                unique_values,\n",
    "                                relevant_features], axis=1, join='inner',\n",
    "                            keys=['types', 'unique values', 'description'] )\n",
    "    data_types = data_types.rename_axis('names').sort_values(['types', 'names'])\n",
    "\n",
    "    display(data_types)\n",
    "\n",
    "def show_missing_data(df, relevant_features):\n",
    "  pd.options.display.max_rows = None\n",
    "  pd.options.display.max_colwidth  = 100\n",
    "  num_rows = df.shape[0]\n",
    "  total_missing = df.isna().sum()\n",
    "  total_missing = total_missing[total_missing != 0].sort_values()\n",
    "\n",
    "  missing_data = pd.concat( [total_missing,\n",
    "                             (total_missing / num_rows) * 100,\n",
    "                             relevant_features], axis=1, join='inner',\n",
    "                           keys=['total missing', '%missing', 'description'] )\n",
    "\n",
    "  display(missing_data)\n",
    "\n",
    "def is_not_float(number):\n",
    "  try:\n",
    "    float(number)\n",
    "    return False\n",
    "  except:\n",
    "    return True\n",
    "  \n",
    "def is_float(number):\n",
    "  try:\n",
    "    float(number)\n",
    "    return True\n",
    "  except:\n",
    "    return False\n",
    "\n",
    "def show_descriptive_statistical(df):\n",
    "    # Central Tendency - mean, median\n",
    "    ct1 = pd.DataFrame(df.apply(np.mean)).T\n",
    "    ct2 = pd.DataFrame(df.apply(np.median)).T\n",
    "\n",
    "    # Dispersion - std, min, max, range, skew, kurtosis\n",
    "    d1 = pd.DataFrame(df.apply(np.std)).T\n",
    "    d2 = pd.DataFrame(df.apply(min)).T\n",
    "    d3 = pd.DataFrame(df.apply(max)).T\n",
    "    d4 = pd.DataFrame(df.apply(lambda x: x.max() - x.min())).T\n",
    "    d5 = pd.DataFrame(df.apply(lambda x: x.skew())).T\n",
    "    d6 = pd.DataFrame(df.apply(lambda x: x.kurtosis())).T\n",
    "\n",
    "    m = pd.concat([d2, d3, d4, ct1, ct2, d1, d5, d6]).T.reset_index()\n",
    "    m.columns = ['attributes', 'min', 'max', 'range', 'mean', 'median', 'std', 'skew', 'kurtosis']\n",
    "    display(m)\n",
    "\n",
    "def plot_hist(data: pd.Series, min=None, max=None):\n",
    "    \"\"\"\n",
    "    Plot histogram of a Pandas' Series\n",
    "    min, max: optionals, define the values boudries\n",
    "    \"\"\"\n",
    "\n",
    "    if min is None:\n",
    "      min = data.min()\n",
    "    if max is None:\n",
    "      max = data.max()\n",
    "\n",
    "    plt.rcParams['figure.figsize'] = [5, 3]\n",
    "\n",
    "    fig, ax = plt.subplots()\n",
    "\n",
    "    sns.histplot(data=data[(data >= min) & (data <= max)], \n",
    "                kde=True, \n",
    "                bins=20,\n",
    "                stat='density',\n",
    "                multiple='layer',\n",
    "                kde_kws={'bw_adjust':2},\n",
    "                line_kws={'linewidth':3},\n",
    "                palette='Set2',\n",
    "                ax=ax)\n",
    "\n",
    "\n",
    "    for axis in ['bottom', 'left']:\n",
    "        ax.spines[axis].set_linewidth(2.5)\n",
    "        ax.spines[axis].set_color('0.2')\n",
    "\n",
    "    ax.spines['top'].set_visible(False)\n",
    "    ax.spines['right'].set_visible(False)\n",
    "\n",
    "\n",
    "    ax.grid(True, which='major', axis='both', alpha=1)\n",
    "\n",
    "    ax.tick_params(axis='x', \n",
    "                  bottom=True,\n",
    "                  which='major', \n",
    "                  direction='out', \n",
    "                  length=10, \n",
    "                  width=5,\n",
    "                  color='0.2', \n",
    "                  pad=15, \n",
    "                  labelsize=15, \n",
    "                  labelcolor='black', \n",
    "                  labelrotation=15)\n",
    "\n",
    "    ax.tick_params(axis='y', \n",
    "                  left=True,\n",
    "                  which='major', \n",
    "                  direction='out', \n",
    "                  length=10, \n",
    "                  width=5, \n",
    "                  color='0.2', \n",
    "                  pad=15, \n",
    "                  labelsize=15, \n",
    "                  labelcolor='black', \n",
    "                  labelrotation=0)\n",
    "\n",
    "    ax.set_xlabel(ax.get_xlabel(), fontsize=14, weight='bold')\n",
    "    ax.set_ylabel(ax.get_ylabel(), fontsize=14, weight='bold')\n",
    "\n",
    "\n",
    "    plt.xticks(size=14, weight='bold', color = '0.2')\n",
    "    plt.yticks(size=14, weight='bold', color = '0.2')\n",
    "\n",
    "def ajust_parameters(column, min, max):\n",
    "    init_size = df[column].shape[0]\n",
    "    new_data = df[column][(df[column] >= min) & (df[column] <= max)]\n",
    "    final_size = new_data.shape[0]\n",
    "    print(\"Num rows\")\n",
    "    print(\"Initial: \", init_size)\n",
    "    print(\"Final: \", final_size)\n",
    "    print(\"Diff: \", init_size - final_size)\n",
    "    print(\"Old skew: \", df[column].skew(), \" - New skew: \", new_data.skew())\n",
    "    print(\"Old kurtosis: \", df[column].kurtosis(), \" - New kurtosis: \", new_data.kurtosis())\n",
    "    plot_hist(new_data)\n",
    "\n",
    "def show_unique_data(df):\n",
    "  pd.options.display.max_rows = None\n",
    "  pd.options.display.max_colwidth  = 100\n",
    "  num_rows = df.shape[0]\n",
    "  total_unique = df.nunique().sort_values()\n",
    "  unique_data = pd.concat( [total_unique, (total_unique / num_rows) * 100],\n",
    "                           axis=1,\n",
    "                           keys=['total unique', 'total unique%'] )\n",
    "\n",
    "  display(unique_data)\n",
    "\n",
    "def plot_cat(df: pd.DataFrame, x: str, y: str, min=None, max=None):\n",
    "  if min is None:\n",
    "      min = df[y].min()\n",
    "  if max is None:\n",
    "      max = df[y].max()\n",
    "\n",
    "  croped_df = df[(df[y] >= min) & (df[y] <= max)]\n",
    "  for value in df[x].unique():\n",
    "    print(x, \"=\", value, \": \", croped_df[y][croped_df[x] == value].mean())\n",
    "\n",
    "  sns.catplot(\n",
    "      data = croped_df,\n",
    "      x=x, y=y, kind='boxen', scale='area'\n",
    "  )\n",
    "    "
   ]
  },
  {
   "attachments": {},
   "cell_type": "markdown",
   "metadata": {},
   "source": [
    "## 0.3. Loading Data"
   ]
  },
  {
   "cell_type": "code",
   "execution_count": null,
   "metadata": {},
   "outputs": [],
   "source": [
    "df = read_large_gzip_csv(raw_data_path + '/accepted_2007_to_2018Q4.csv.gz')"
   ]
  },
  {
   "attachments": {},
   "cell_type": "markdown",
   "metadata": {},
   "source": [
    "# 1. DATA DESCRIPTION"
   ]
  },
  {
   "cell_type": "code",
   "execution_count": null,
   "metadata": {},
   "outputs": [],
   "source": [
    "step = 1"
   ]
  },
  {
   "attachments": {},
   "cell_type": "markdown",
   "metadata": {},
   "source": [
    "## 1.0. Data Fields"
   ]
  },
  {
   "attachments": {},
   "cell_type": "markdown",
   "metadata": {},
   "source": [
    "This dataset has more than 150 features, but only some are relevant after the loan and, therefore, are unavailable during the moment of investment. The spreadsheet `LCDataDictionary.xlsx` available at Kaggle highlights the relevant features in the sheet `Browse Notes`. To facilitate the understanding of this notebook I'll add these features and it's descriptions in the dictionary variable bellow:"
   ]
  },
  {
   "cell_type": "code",
   "execution_count": null,
   "metadata": {},
   "outputs": [],
   "source": [
    "relevant_features = {\n",
    "  'acc_now_delinq': 'The number of accounts on which the borrower is now delinquent.',\n",
    "  'acc_open_past_24mths': 'Number of trades opened in past 24 months.',\n",
    "  'addr_state': 'The state provided by the borrower in the loan application',\n",
    "  'all_util': 'Balance to credit limit on all trades',\n",
    "  'annual_inc': 'The self-reported annual income provided by the borrower during registration.',\n",
    "  'annual_inc_joint': 'The combined self-reported annual income provided by the co-borrowers during registration',\n",
    "  'application_type': 'Indicates whether the loan is an individual application or a joint application with two co-borrowers',\n",
    "  'avg_cur_bal': 'Average current balance of all accounts',\n",
    "  'bc_open_to_buy': 'Total open to buy on revolving bankcards.',\n",
    "  'bc_util': 'Ratio of total current balance to high credit/credit limit for all bankcard accounts.',\n",
    "  'chargeoff_within_12_mths': 'Number of charge-offs within 12 months',\n",
    "  'collections_12_mths_ex_med': 'Number of collections in 12 months excluding medical collections',\n",
    "  'delinq_2yrs': \"The number of 30+ days past-due incidences of delinquency in the borrower's credit file for the past 2 years\",\n",
    "  'delinq_amnt': 'The past-due amount owed for the accounts on which the borrower is now delinquent.',\n",
    "  'desc': 'Loan description provided by the borrower',\n",
    "  'disbursement_method': 'The method by which the borrower receives their loan. Possible values are: CASH, DIRECT_PAY',\n",
    "  'dti': 'A ratio calculated using the borrower’s total monthly debt payments on the total debt obligations, excluding mortgage and the requested LC loan, divided by the borrower’s self-reported monthly income.',\n",
    "  'dti_joint': \"A ratio calculated using the co-borrowers' total monthly payments on the total debt obligations, excluding mortgages and the requested LC loan, divided by the co-borrowers' combined self-reported monthly income\",\n",
    "  'earliest_cr_line': \"The date the borrower's earliest reported credit line was opened\",\n",
    "  'emp_length': 'Employment length in years. Possible values are between 0 and 10 where 0 means less than one year and 10 means ten or more years.',\n",
    "  'emp_title': 'The job title supplied by the Borrower when applying for the loan.*',\n",
    "  'fico_range_high': 'The upper boundary range the borrower’s FICO at loan origination belongs to.',\n",
    "  'fico_range_low': 'The lower boundary range the borrower’s FICO at loan origination belongs to.',\n",
    "  'funded_amnt': 'The total amount committed to that loan at that point in time.',\n",
    "  'grade': 'LC assigned loan grade',\n",
    "  'home_ownership': 'The home ownership status provided by the borrower during registration. Our values are: RENT, OWN, MORTGAGE, OTHER.',\n",
    "  'id': 'A unique LC assigned ID for the loan listing.',\n",
    "  'il_util': 'Ratio of total current balance to high credit/credit limit on all install acct',\n",
    "  'initial_list_status': 'The initial listing status of the loan. Possible values are – W, F',\n",
    "  'inq_fi': 'Number of personal finance inquiries',\n",
    "  'inq_last_12m': 'Number of credit inquiries in past 12 months',\n",
    "  'inq_last_6mths': 'The number of inquiries in past 6 months (excluding auto and mortgage inquiries)',\n",
    "  'installment': 'The monthly payment owed by the borrower if the loan originates.',\n",
    "  'int_rate': 'Interest Rate\\xa0on the loan',\n",
    "  'loan_amnt': 'The listed amount of the loan applied for by the borrower. If at some point in time, the credit department reduces the loan amount, then it will be reflected in this value.',\n",
    "  'loan_status': 'Current status of the loan',\n",
    "  'max_bal_bc': 'Maximum current balance owed on all revolving accounts',\n",
    "  'member_id': 'A unique LC assigned Id for the borrower member.',\n",
    "  'mo_sin_old_il_acct': 'Months since oldest bank installment account opened',\n",
    "  'mo_sin_old_rev_tl_op': 'Months since oldest revolving account opened',\n",
    "  'mo_sin_rcnt_rev_tl_op': 'Months since most recent revolving account opened',\n",
    "  'mo_sin_rcnt_tl': 'Months since most recent account opened',\n",
    "  'mort_acc': 'Number of mortgage accounts.',\n",
    "  'mths_since_last_delinq': \"The number of months since the borrower's last delinquency.\",\n",
    "  'mths_since_last_major_derog': 'Months since most recent 90-day or worse rating',\n",
    "  'mths_since_last_record': 'The number of months since the last public record.',\n",
    "  'mths_since_rcnt_il': 'Months since most recent installment accounts opened',\n",
    "  'mths_since_recent_bc': 'Months since most recent bankcard account opened.',\n",
    "  'mths_since_recent_bc_dlq': 'Months since most recent bankcard delinquency',\n",
    "  'mths_since_recent_inq': 'Months since most recent inquiry.',\n",
    "  'mths_since_recent_revol_delinq': 'Months since most recent revolving delinquency.',\n",
    "  'num_accts_ever_120_pd': 'Number of accounts ever 120 or more days past due',\n",
    "  'num_actv_bc_tl': 'Number of currently active bankcard accounts',\n",
    "  'num_actv_rev_tl': 'Number of currently active revolving trades',\n",
    "  'num_bc_sats': 'Number of satisfactory bankcard accounts',\n",
    "  'num_bc_tl': 'Number of bankcard accounts',\n",
    "  'num_il_tl': 'Number of installment accounts',\n",
    "  'num_op_rev_tl': 'Number of open revolving accounts',\n",
    "  'num_rev_accts': 'Number of revolving accounts',\n",
    "  'num_rev_tl_bal_gt_0': 'Number of revolving trades with balance >0',\n",
    "  'num_sats': 'Number of satisfactory accounts',\n",
    "  'num_tl_120dpd_2m': 'Number of accounts currently 120 days past due (updated in past 2 months)',\n",
    "  'num_tl_30dpd': 'Number of accounts currently 30 days past due (updated in past 2 months)',\n",
    "  'num_tl_90g_dpd_24m': 'Number of accounts 90 or more days past due in last 24 months',\n",
    "  'num_tl_op_past_12m': 'Number of accounts opened in past 12 months',\n",
    "  'open_acc': \"The number of open credit lines in the borrower's credit file.\",\n",
    "  'open_acc_6m': 'Number of open trades in last 6 months',\n",
    "  'open_act_il': 'Number of currently active installment trades',\n",
    "  'open_il_12m': 'Number of installment accounts opened in past 12 months',\n",
    "  'open_il_24m': 'Number of installment accounts opened in past 24 months',\n",
    "  'open_rv_12m': 'Number of revolving trades opened in past 12 months',\n",
    "  'open_rv_24m': 'Number of revolving trades opened in past 24 months',\n",
    "  'pct_tl_nvr_dlq': 'Percent of trades never delinquent',\n",
    "  'percent_bc_gt_75': 'Percentage of all bankcard accounts > 75% of limit.',\n",
    "  'pub_rec': 'Number of derogatory public records',\n",
    "  'pub_rec_bankruptcies': 'Number of public record bankruptcies',\n",
    "  'purpose': 'A category provided by the borrower for the loan request. ',\n",
    "  'revol_bal': 'Total credit revolving balance',\n",
    "  'revol_bal_joint': ' Sum of revolving credit balance of the co-borrowers, net of duplicate balances',\n",
    "  'revol_util': 'Revolving line utilization rate, or the amount of credit the borrower is using relative to all available revolving credit.',\n",
    "  'sec_app_chargeoff_within_12_mths': ' Number of charge-offs within last 12 months at time of application for the secondary applicant',\n",
    "  'sec_app_collections_12_mths_ex_med': ' Number of collections within last 12 months excluding medical collections at time of application for the secondary applicant',\n",
    "  'sec_app_earliest_cr_line': ' Earliest credit line at time of application for the secondary applicant',\n",
    "  'sec_app_fico_range_high': ' FICO range (low) for the secondary applicant',\n",
    "  'sec_app_fico_range_low': ' FICO range (high) for the secondary applicant',\n",
    "  'sec_app_inq_last_6mths': ' Credit inquiries in the last 6 months at time of application for the secondary applicant',\n",
    "  'sec_app_mort_acc': ' Number of mortgage accounts at time of application for the secondary applicant',\n",
    "  'sec_app_mths_since_last_major_derog': ' Months since most recent 90-day or worse rating at time of application for the secondary applicant',\n",
    "  'sec_app_num_rev_accts': ' Number of revolving accounts at time of application for the secondary applicant',\n",
    "  'sec_app_open_acc': ' Number of open trades at time of application for the secondary applicant',\n",
    "  'sec_app_open_act_il': ' Number of currently active installment trades at time of application for the secondary applicant',\n",
    "  'sec_app_revol_util': ' Ratio of total current balance to high credit/credit limit for all revolving accounts',\n",
    "  'sub_grade': 'LC assigned loan subgrade',\n",
    "  'tax_liens': 'Number of tax liens',\n",
    "  'term': 'The number of payments on the loan. Values are in months and can be either 36 or 60.',\n",
    "  'title': 'The loan title provided by the borrower',\n",
    "  'tot_coll_amt': 'Total collection amounts ever owed',\n",
    "  'tot_cur_bal': 'Total current balance of all accounts',\n",
    "  'tot_hi_cred_lim': 'Total high credit/credit limit',\n",
    "  'total_acc': \"The total number of credit lines currently in the borrower's credit file\",\n",
    "  'total_bal_ex_mort': 'Total credit balance excluding mortgage',\n",
    "  'total_bal_il': 'Total current balance of all installment accounts',\n",
    "  'total_bc_limit': 'Total bankcard high credit/credit limit',\n",
    "  'total_cu_tl': 'Number of finance trades',\n",
    "  'total_il_high_credit_limit': 'Total installment high credit/credit limit',\n",
    "  'total_rev_hi_lim': 'Total revolving high credit/credit limit',\n",
    "  'url': 'URL for the LC page with listing data.',\n",
    "  'verification_status': 'Indicates if income was verified by LC, not verified, or if the income source was verified',\n",
    "  'verification_status_joint': \"Indicates if the co-borrowers' joint income was verified by LC, not verified, or if the income source was verified\",\n",
    "  'zip_code': 'The first 3 numbers of the zip code provided by the borrower in the loan application.'}\n",
    "\n",
    "relevant_features = pd.Series(relevant_features)\n",
    "save_relevant_features()"
   ]
  },
  {
   "cell_type": "code",
   "execution_count": null,
   "metadata": {},
   "outputs": [],
   "source": [
    "df = df[relevant_features.keys()].copy()"
   ]
  },
  {
   "attachments": {},
   "cell_type": "markdown",
   "metadata": {},
   "source": [
    "## 1.1. Data Dimensions"
   ]
  },
  {
   "cell_type": "code",
   "execution_count": null,
   "metadata": {},
   "outputs": [],
   "source": [
    "print(f'Number of lines: {df.shape[0]}')\n",
    "print(f'Number of columns: {df.shape[1]}')"
   ]
  },
  {
   "attachments": {},
   "cell_type": "markdown",
   "metadata": {},
   "source": [
    "## 1.2. Data Types"
   ]
  },
  {
   "attachments": {},
   "cell_type": "markdown",
   "metadata": {},
   "source": [
    "### 1.2.0 Type List"
   ]
  },
  {
   "cell_type": "code",
   "execution_count": null,
   "metadata": {},
   "outputs": [],
   "source": [
    "show_data_types(df, relevant_features)"
   ]
  },
  {
   "attachments": {},
   "cell_type": "markdown",
   "metadata": {},
   "source": [
    "### 1.2.1 Type Changes"
   ]
  },
  {
   "attachments": {},
   "cell_type": "markdown",
   "metadata": {},
   "source": [
    "`earliest_cr_line` and `sec_app_earliest_cr_line` can be changed into data format."
   ]
  },
  {
   "cell_type": "code",
   "execution_count": null,
   "metadata": {},
   "outputs": [],
   "source": [
    "df['earliest_cr_line'] = pd.to_datetime(df['earliest_cr_line'], infer_datetime_format=True)\n",
    "df['sec_app_earliest_cr_line'] = pd.to_datetime(df['sec_app_earliest_cr_line'], infer_datetime_format=True)"
   ]
  },
  {
   "attachments": {},
   "cell_type": "markdown",
   "metadata": {},
   "source": [
    "`emp_length`,  `id` and `term` can be transformed into numerical values. In case of `emp_length` the value of `10+ years` and `< 1 year` will be transformed in `11` and `0` respectively.\n",
    "\n",
    "Some `id` values contain strings and isn't possible to transform them into float. Analysing these rows it appears that these values are null and these rows can be excluded."
   ]
  },
  {
   "cell_type": "code",
   "execution_count": null,
   "metadata": {},
   "outputs": [],
   "source": [
    "id_not_float = df.loc[df['id'].apply(is_not_float)]\n",
    "id_not_float.head()"
   ]
  },
  {
   "cell_type": "code",
   "execution_count": null,
   "metadata": {},
   "outputs": [],
   "source": [
    "df = df.loc[df['id'].apply(is_float)]"
   ]
  },
  {
   "cell_type": "code",
   "execution_count": null,
   "metadata": {},
   "outputs": [],
   "source": [
    "df['emp_length'] = df['emp_length'].replace({'< 1 year': '0 years', '10+ years': '11 years'})\n",
    "df['emp_length'] = df['emp_length'].str.extract('(\\d+)').astype('float')\n",
    "df['id'] = df['id'].astype('float')\n",
    "df['term'] = df['term'].str.extract('(\\d+)').astype('float')"
   ]
  },
  {
   "cell_type": "code",
   "execution_count": null,
   "metadata": {},
   "outputs": [],
   "source": [
    "df[['emp_length', 'id', 'term']].head()"
   ]
  },
  {
   "attachments": {},
   "cell_type": "markdown",
   "metadata": {},
   "source": [
    "## 1.3. NA Variables"
   ]
  },
  {
   "attachments": {},
   "cell_type": "markdown",
   "metadata": {},
   "source": [
    "### 1.3.0. Check NA"
   ]
  },
  {
   "cell_type": "code",
   "execution_count": null,
   "metadata": {},
   "outputs": [],
   "source": [
    "show_missing_data(df, relevant_features)"
   ]
  },
  {
   "attachments": {},
   "cell_type": "markdown",
   "metadata": {},
   "source": [
    "### 1.3.1. Fillout NA"
   ]
  },
  {
   "attachments": {},
   "cell_type": "markdown",
   "metadata": {},
   "source": [
    "I'll start by eliminating every column with more than 40% of null variables:"
   ]
  },
  {
   "cell_type": "code",
   "execution_count": null,
   "metadata": {},
   "outputs": [],
   "source": [
    "df = df.loc[:, df.isna().mean() < .4]\n",
    "df.shape"
   ]
  },
  {
   "attachments": {},
   "cell_type": "markdown",
   "metadata": {},
   "source": [
    "I'll drop every row with null values"
   ]
  },
  {
   "cell_type": "code",
   "execution_count": null,
   "metadata": {},
   "outputs": [],
   "source": [
    "df = df.dropna()\n",
    "df.shape"
   ]
  },
  {
   "attachments": {},
   "cell_type": "markdown",
   "metadata": {},
   "source": [
    "## 1.4. Descriptive Statistics"
   ]
  },
  {
   "cell_type": "code",
   "execution_count": null,
   "metadata": {},
   "outputs": [],
   "source": [
    "num_attributes = df.select_dtypes(include=['int64', 'float64'])\n",
    "cat_attributes = df.select_dtypes(exclude=['int64', 'float64', 'datetime64[ns]'])"
   ]
  },
  {
   "attachments": {},
   "cell_type": "markdown",
   "metadata": {},
   "source": [
    "### 1.4.0. Numerical Attributes"
   ]
  },
  {
   "cell_type": "code",
   "execution_count": null,
   "metadata": {},
   "outputs": [],
   "source": [
    "show_descriptive_statistical(num_attributes)"
   ]
  },
  {
   "attachments": {},
   "cell_type": "markdown",
   "metadata": {},
   "source": [
    "I select the variables with high absolute value of skew and kurtosis to take a look. The threshold for skew is 10 and kurtosis is 50:"
   ]
  },
  {
   "cell_type": "code",
   "execution_count": null,
   "metadata": {},
   "outputs": [],
   "source": [
    "bad_skew_kurtosis = num_attributes.loc[:, (num_attributes.apply(lambda x: x.skew()) > 10) | (num_attributes.apply(lambda x: x.kurtosis()) > 50)].columns\n",
    "bad_skew_kurtosis"
   ]
  },
  {
   "attachments": {},
   "cell_type": "markdown",
   "metadata": {},
   "source": [
    "#### acc_now_delinq"
   ]
  },
  {
   "cell_type": "code",
   "execution_count": null,
   "metadata": {},
   "outputs": [],
   "source": [
    "plot_hist(df.acc_now_delinq)"
   ]
  },
  {
   "cell_type": "code",
   "execution_count": null,
   "metadata": {},
   "outputs": [],
   "source": [
    "ajust_parameters('acc_now_delinq', 1, 50)"
   ]
  },
  {
   "attachments": {},
   "cell_type": "markdown",
   "metadata": {},
   "source": [
    "I'll leave this as is."
   ]
  },
  {
   "attachments": {},
   "cell_type": "markdown",
   "metadata": {},
   "source": [
    "#### annual_inc"
   ]
  },
  {
   "cell_type": "code",
   "execution_count": null,
   "metadata": {},
   "outputs": [],
   "source": [
    "plot_hist(df.annual_inc)"
   ]
  },
  {
   "attachments": {},
   "cell_type": "markdown",
   "metadata": {},
   "source": [
    "Ajusting parameters:"
   ]
  },
  {
   "cell_type": "code",
   "execution_count": null,
   "metadata": {},
   "outputs": [],
   "source": [
    "ajust_parameters('annual_inc', 0, 5e5)"
   ]
  },
  {
   "cell_type": "code",
   "execution_count": null,
   "metadata": {},
   "outputs": [],
   "source": [
    "(1974/1027854 )*100"
   ]
  },
  {
   "cell_type": "code",
   "execution_count": null,
   "metadata": {},
   "outputs": [],
   "source": [
    "df = df[df['annual_inc'] <= 5e5]"
   ]
  },
  {
   "attachments": {},
   "cell_type": "markdown",
   "metadata": {},
   "source": [
    "#### chargeoff_within_12_mths"
   ]
  },
  {
   "cell_type": "code",
   "execution_count": null,
   "metadata": {},
   "outputs": [],
   "source": [
    "plot_hist(df.chargeoff_within_12_mths)"
   ]
  },
  {
   "cell_type": "code",
   "execution_count": null,
   "metadata": {},
   "outputs": [],
   "source": [
    "ajust_parameters('chargeoff_within_12_mths', 1, 100)"
   ]
  },
  {
   "attachments": {},
   "cell_type": "markdown",
   "metadata": {},
   "source": [
    "I'll leave this as is."
   ]
  },
  {
   "attachments": {},
   "cell_type": "markdown",
   "metadata": {},
   "source": [
    "#### collections_12_mths_ex_med"
   ]
  },
  {
   "cell_type": "code",
   "execution_count": null,
   "metadata": {},
   "outputs": [],
   "source": [
    "plot_hist(df.collections_12_mths_ex_med)"
   ]
  },
  {
   "cell_type": "code",
   "execution_count": null,
   "metadata": {},
   "outputs": [],
   "source": [
    "ajust_parameters('collections_12_mths_ex_med', 1, 100)"
   ]
  },
  {
   "attachments": {},
   "cell_type": "markdown",
   "metadata": {},
   "source": [
    "I'll leave this as is."
   ]
  },
  {
   "attachments": {},
   "cell_type": "markdown",
   "metadata": {},
   "source": [
    "#### delinq_2yrs"
   ]
  },
  {
   "cell_type": "code",
   "execution_count": null,
   "metadata": {},
   "outputs": [],
   "source": [
    "plot_hist(df.delinq_2yrs)"
   ]
  },
  {
   "cell_type": "code",
   "execution_count": null,
   "metadata": {},
   "outputs": [],
   "source": [
    "ajust_parameters('delinq_2yrs', 1, 30)"
   ]
  },
  {
   "attachments": {},
   "cell_type": "markdown",
   "metadata": {},
   "source": [
    "I'll leave this as is."
   ]
  },
  {
   "attachments": {},
   "cell_type": "markdown",
   "metadata": {},
   "source": [
    "#### delinq_amnt"
   ]
  },
  {
   "cell_type": "code",
   "execution_count": null,
   "metadata": {},
   "outputs": [],
   "source": [
    "plot_hist(df.delinq_amnt)"
   ]
  },
  {
   "cell_type": "code",
   "execution_count": null,
   "metadata": {},
   "outputs": [],
   "source": [
    "ajust_parameters('delinq_amnt', 1, 1000000)"
   ]
  },
  {
   "attachments": {},
   "cell_type": "markdown",
   "metadata": {},
   "source": [
    "I'll leave this as is."
   ]
  },
  {
   "attachments": {},
   "cell_type": "markdown",
   "metadata": {},
   "source": [
    "#### dti"
   ]
  },
  {
   "cell_type": "code",
   "execution_count": null,
   "metadata": {},
   "outputs": [],
   "source": [
    "plot_hist(df.dti)"
   ]
  },
  {
   "cell_type": "code",
   "execution_count": null,
   "metadata": {},
   "outputs": [],
   "source": [
    "ajust_parameters('dti', 0, 100)"
   ]
  },
  {
   "attachments": {},
   "cell_type": "markdown",
   "metadata": {},
   "source": [
    "Any value less than 0 doesn't make sense.\n",
    "It's strange to have very high values. Will crop these values now and do a better investigation later."
   ]
  },
  {
   "cell_type": "code",
   "execution_count": null,
   "metadata": {},
   "outputs": [],
   "source": [
    "df = df[(df['dti'] >= 0) & (df['dti'] <= 100)]"
   ]
  },
  {
   "attachments": {},
   "cell_type": "markdown",
   "metadata": {},
   "source": [
    "#### max_bal_bc"
   ]
  },
  {
   "cell_type": "code",
   "execution_count": null,
   "metadata": {},
   "outputs": [],
   "source": [
    "plot_hist(df.max_bal_bc)"
   ]
  },
  {
   "cell_type": "code",
   "execution_count": null,
   "metadata": {},
   "outputs": [],
   "source": [
    "ajust_parameters('max_bal_bc', 0, 1e5)"
   ]
  },
  {
   "cell_type": "code",
   "execution_count": null,
   "metadata": {},
   "outputs": [],
   "source": [
    "df = df[df['max_bal_bc'] <= 1e5]"
   ]
  },
  {
   "attachments": {},
   "cell_type": "markdown",
   "metadata": {},
   "source": [
    "#### num_accts_ever_120_pd"
   ]
  },
  {
   "cell_type": "code",
   "execution_count": null,
   "metadata": {},
   "outputs": [],
   "source": [
    "plot_hist(df.num_accts_ever_120_pd)"
   ]
  },
  {
   "cell_type": "code",
   "execution_count": null,
   "metadata": {},
   "outputs": [],
   "source": [
    "ajust_parameters('num_accts_ever_120_pd', 1, 100)"
   ]
  },
  {
   "attachments": {},
   "cell_type": "markdown",
   "metadata": {},
   "source": [
    "I'll it leave as is."
   ]
  },
  {
   "attachments": {},
   "cell_type": "markdown",
   "metadata": {},
   "source": [
    "#### num_tl_120dpd_2m"
   ]
  },
  {
   "cell_type": "code",
   "execution_count": null,
   "metadata": {},
   "outputs": [],
   "source": [
    "plot_hist(df.num_tl_120dpd_2m)"
   ]
  },
  {
   "attachments": {},
   "cell_type": "markdown",
   "metadata": {},
   "source": [
    "I'll leave it as is."
   ]
  },
  {
   "attachments": {},
   "cell_type": "markdown",
   "metadata": {},
   "source": [
    "#### num_tl_30dpd"
   ]
  },
  {
   "cell_type": "code",
   "execution_count": null,
   "metadata": {},
   "outputs": [],
   "source": [
    "plot_hist(df.num_tl_30dpd)"
   ]
  },
  {
   "attachments": {},
   "cell_type": "markdown",
   "metadata": {},
   "source": [
    "I'll leave it as is."
   ]
  },
  {
   "attachments": {},
   "cell_type": "markdown",
   "metadata": {},
   "source": [
    "#### num_tl_90g_dpd_24m"
   ]
  },
  {
   "cell_type": "code",
   "execution_count": null,
   "metadata": {},
   "outputs": [],
   "source": [
    "plot_hist(df.num_tl_90g_dpd_24m)"
   ]
  },
  {
   "cell_type": "markdown",
   "metadata": {},
   "source": [
    "I'll leave it as is."
   ]
  },
  {
   "attachments": {},
   "cell_type": "markdown",
   "metadata": {},
   "source": [
    "#### pub_rec"
   ]
  },
  {
   "cell_type": "code",
   "execution_count": null,
   "metadata": {},
   "outputs": [],
   "source": [
    "plot_hist(df.pub_rec)"
   ]
  },
  {
   "cell_type": "markdown",
   "metadata": {},
   "source": [
    "I'll leave it as is."
   ]
  },
  {
   "attachments": {},
   "cell_type": "markdown",
   "metadata": {},
   "source": [
    "#### revol_bal"
   ]
  },
  {
   "cell_type": "code",
   "execution_count": null,
   "metadata": {},
   "outputs": [],
   "source": [
    "plot_hist(df.revol_bal)"
   ]
  },
  {
   "cell_type": "markdown",
   "metadata": {},
   "source": [
    "I'll leave it as is."
   ]
  },
  {
   "cell_type": "code",
   "execution_count": null,
   "metadata": {},
   "outputs": [],
   "source": [
    "ajust_parameters('revol_bal', 0, 2e5)"
   ]
  },
  {
   "cell_type": "code",
   "execution_count": null,
   "metadata": {},
   "outputs": [],
   "source": [
    "df = df[df['revol_bal'] <= 2e5]"
   ]
  },
  {
   "attachments": {},
   "cell_type": "markdown",
   "metadata": {},
   "source": [
    "#### tax_liens"
   ]
  },
  {
   "cell_type": "code",
   "execution_count": null,
   "metadata": {},
   "outputs": [],
   "source": [
    "plot_hist(df.tax_liens)"
   ]
  },
  {
   "cell_type": "markdown",
   "metadata": {},
   "source": [
    "I'll leave it as is."
   ]
  },
  {
   "attachments": {},
   "cell_type": "markdown",
   "metadata": {},
   "source": [
    "#### tot_coll_amt"
   ]
  },
  {
   "cell_type": "code",
   "execution_count": null,
   "metadata": {},
   "outputs": [],
   "source": [
    "plot_hist(df.tot_coll_amt)"
   ]
  },
  {
   "cell_type": "markdown",
   "metadata": {},
   "source": [
    "I'll leave it as is."
   ]
  },
  {
   "attachments": {},
   "cell_type": "markdown",
   "metadata": {},
   "source": [
    "#### tot_hi_cred_lim"
   ]
  },
  {
   "cell_type": "code",
   "execution_count": null,
   "metadata": {},
   "outputs": [],
   "source": [
    "plot_hist(df.tot_hi_cred_lim)"
   ]
  },
  {
   "cell_type": "code",
   "execution_count": null,
   "metadata": {},
   "outputs": [],
   "source": [
    "ajust_parameters('tot_hi_cred_lim', 0, 4e6)"
   ]
  },
  {
   "cell_type": "markdown",
   "metadata": {},
   "source": [
    "I'll leave it as is."
   ]
  },
  {
   "attachments": {},
   "cell_type": "markdown",
   "metadata": {},
   "source": [
    "#### total_rev_hi_lim"
   ]
  },
  {
   "cell_type": "code",
   "execution_count": null,
   "metadata": {},
   "outputs": [],
   "source": [
    "plot_hist(df.total_rev_hi_lim)"
   ]
  },
  {
   "cell_type": "code",
   "execution_count": null,
   "metadata": {},
   "outputs": [],
   "source": [
    "ajust_parameters('total_rev_hi_lim', 0, 5e5)"
   ]
  },
  {
   "cell_type": "markdown",
   "metadata": {},
   "source": [
    "I'll leave it as is."
   ]
  },
  {
   "attachments": {},
   "cell_type": "markdown",
   "metadata": {},
   "source": [
    "### 1.4.1. Categorical Attributes"
   ]
  },
  {
   "cell_type": "code",
   "execution_count": null,
   "metadata": {},
   "outputs": [],
   "source": [
    "show_unique_data(cat_attributes)"
   ]
  },
  {
   "attachments": {},
   "cell_type": "markdown",
   "metadata": {},
   "source": [
    "`emp_title` and `url` have a high cardinality for categorical atributes, therefore they are going to be eliminated."
   ]
  },
  {
   "cell_type": "code",
   "execution_count": null,
   "metadata": {},
   "outputs": [],
   "source": [
    "df = df.drop(['emp_title', 'url'], axis=1)"
   ]
  },
  {
   "cell_type": "code",
   "execution_count": null,
   "metadata": {},
   "outputs": [],
   "source": [
    "backup_df()"
   ]
  },
  {
   "attachments": {},
   "cell_type": "markdown",
   "metadata": {},
   "source": [
    "# 2. FEATURE ENGINEERING"
   ]
  },
  {
   "cell_type": "code",
   "execution_count": null,
   "metadata": {},
   "outputs": [],
   "source": [
    "step = 2\n",
    "restore_df()"
   ]
  },
  {
   "attachments": {},
   "cell_type": "markdown",
   "metadata": {},
   "source": [
    "## 2.0. Hypothesis Mind Map"
   ]
  },
  {
   "cell_type": "code",
   "execution_count": null,
   "metadata": {},
   "outputs": [],
   "source": [
    "show_data_types(df, relevant_features)"
   ]
  },
  {
   "attachments": {},
   "cell_type": "markdown",
   "metadata": {},
   "source": [
    "### 2.0.0. Target feature"
   ]
  },
  {
   "attachments": {},
   "cell_type": "markdown",
   "metadata": {},
   "source": [
    "A target feature deste dataset é `loan_status`. The description for each status is provided by the Lending Club:\n",
    "\n",
    "*   Current: Loan is up to date on all outstanding payments.\n",
    "*   In Grace Period: Loan is past due but within the 15-day grace period.\n",
    "*   Late (16-30): Loan has not been current for 16 to 30 days.\n",
    "*   Late (31-120): Loan has not been current for 31 to 120 days.\n",
    "*   Fully paid: Loan has been fully repaid, either at the expiration of the 3- or 5-year year term or as a result of a prepayment.\n",
    "*   Default: Loan has not been current for an extended period of time.\n",
    "*   Charged Off: Loan for which there is no longer a reasonable expectation of further payments."
   ]
  },
  {
   "attachments": {},
   "cell_type": "markdown",
   "metadata": {},
   "source": [
    "### 2.0.1. Mind Map"
   ]
  },
  {
   "cell_type": "code",
   "execution_count": null,
   "metadata": {},
   "outputs": [],
   "source": [
    "Image(external_data_path + '/Loan_status.png')"
   ]
  },
  {
   "attachments": {},
   "cell_type": "markdown",
   "metadata": {},
   "source": [
    "## 2.1. Creating hypotheses"
   ]
  },
  {
   "attachments": {},
   "cell_type": "markdown",
   "metadata": {},
   "source": [
    "### 2.1.0. Income and assets hypotheses"
   ]
  },
  {
   "attachments": {},
   "cell_type": "markdown",
   "metadata": {},
   "source": [
    "**1.** Clients with higher income should have good loan status.\n",
    "\n",
    "**2.** Clients with higher account balance should have good good loan status."
   ]
  },
  {
   "attachments": {},
   "cell_type": "markdown",
   "metadata": {},
   "source": [
    "### 2.1.1. Debt and unpaid bills hypotheses"
   ]
  },
  {
   "attachments": {},
   "cell_type": "markdown",
   "metadata": {},
   "source": [
    "**3.** Clients with higher number of unpaid debts should have bad loan status.\n",
    "\n",
    "**4.** Clients with higher number of collections should have bad loan status.\n",
    "\n",
    "**5.** Clients with higher number of inquiries should have bad loan status."
   ]
  },
  {
   "cell_type": "markdown",
   "metadata": {},
   "source": [
    "### 2.1.2. Accounts status hypotheses"
   ]
  },
  {
   "attachments": {},
   "cell_type": "markdown",
   "metadata": {},
   "source": [
    "**6.** Clients with higher number of delinquencies should have bad loan status.\n",
    "\n",
    "**7.** Clients with higher credit should have good loan status.\n",
    "\n",
    "**8.** Clients using more credit should have good loan status."
   ]
  },
  {
   "attachments": {},
   "cell_type": "markdown",
   "metadata": {},
   "source": [
    "### 2.1.3. Client hypotheses"
   ]
  },
  {
   "attachments": {},
   "cell_type": "markdown",
   "metadata": {},
   "source": [
    "**9.** Clients with higher amounts of trades should have good loan status.\n",
    "\n",
    "**10.** Clients with higher employment lenght should have good loan status.\n",
    "\n",
    "**11.** Clients that are older clients should have good loan status.\n",
    "\n",
    "**12.** Clients that are newer clients should have bad loan status.\n",
    "\n",
    "**13.** Clients with more accounts should have good loan status.\n",
    "\n",
    "**14.** Clients with bad public record should have bad loan status."
   ]
  },
  {
   "attachments": {},
   "cell_type": "markdown",
   "metadata": {},
   "source": [
    "### 2.1.4. Other hypotheses"
   ]
  },
  {
   "attachments": {},
   "cell_type": "markdown",
   "metadata": {},
   "source": [
    "**15.** Clients with high FICO score should have good loan status.\n",
    "\n",
    "**16.** Clients with high loan amount should have bad loan status.\n",
    "\n",
    "**17.** Clients with higher interest rates on the loan should have bad loan status.\n",
    "\n",
    "**18.** Clients with higher number of payments on the loan should have bad loan status."
   ]
  },
  {
   "attachments": {},
   "cell_type": "markdown",
   "metadata": {},
   "source": [
    "## 2.2. Feature Engineering"
   ]
  },
  {
   "attachments": {},
   "cell_type": "markdown",
   "metadata": {},
   "source": [
    "`loan_status` is a categorical variable with the following values:"
   ]
  },
  {
   "cell_type": "code",
   "execution_count": null,
   "metadata": {},
   "outputs": [],
   "source": [
    "df['loan_status'].value_counts()"
   ]
  },
  {
   "attachments": {},
   "cell_type": "markdown",
   "metadata": {},
   "source": [
    "These values will be separated into good values (1) and bad values (0). We'll consider `Current`, `Fully Paid` and `In Grace Period` as good and the rest as bad and put these values in the variable `loan_status_gb`:"
   ]
  },
  {
   "cell_type": "code",
   "execution_count": null,
   "metadata": {},
   "outputs": [],
   "source": [
    "df['loan_status_gb'] = df['loan_status'].isin(['Current', 'Fully Paid', 'In Grace Period']).astype('int')\n",
    "df['loan_status_gb'].value_counts()"
   ]
  },
  {
   "attachments": {},
   "cell_type": "markdown",
   "metadata": {},
   "source": [
    "This dataset is highly imbalanced."
   ]
  },
  {
   "cell_type": "code",
   "execution_count": null,
   "metadata": {},
   "outputs": [],
   "source": [
    "backup_df()"
   ]
  }
 ],
 "metadata": {
  "kernelspec": {
   "display_name": "lending-club-7edRwRf5-py3.8",
   "language": "python",
   "name": "python3"
  },
  "language_info": {
   "codemirror_mode": {
    "name": "ipython",
    "version": 3
   },
   "file_extension": ".py",
   "mimetype": "text/x-python",
   "name": "python",
   "nbconvert_exporter": "python",
   "pygments_lexer": "ipython3",
   "version": "3.8.10"
  },
  "orig_nbformat": 4
 },
 "nbformat": 4,
 "nbformat_minor": 2
}
